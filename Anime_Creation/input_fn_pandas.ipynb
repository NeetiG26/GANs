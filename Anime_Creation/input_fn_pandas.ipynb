{
 "cells": [
  {
   "cell_type": "code",
   "execution_count": 1,
   "metadata": {},
   "outputs": [
    {
     "name": "stderr",
     "output_type": "stream",
     "text": [
      "/home/neeti/.local/lib/python3.6/site-packages/tensorflow/python/framework/dtypes.py:526: FutureWarning: Passing (type, 1) or '1type' as a synonym of type is deprecated; in a future version of numpy, it will be understood as (type, (1,)) / '(1,)type'.\n",
      "  _np_qint8 = np.dtype([(\"qint8\", np.int8, 1)])\n",
      "/home/neeti/.local/lib/python3.6/site-packages/tensorflow/python/framework/dtypes.py:527: FutureWarning: Passing (type, 1) or '1type' as a synonym of type is deprecated; in a future version of numpy, it will be understood as (type, (1,)) / '(1,)type'.\n",
      "  _np_quint8 = np.dtype([(\"quint8\", np.uint8, 1)])\n",
      "/home/neeti/.local/lib/python3.6/site-packages/tensorflow/python/framework/dtypes.py:528: FutureWarning: Passing (type, 1) or '1type' as a synonym of type is deprecated; in a future version of numpy, it will be understood as (type, (1,)) / '(1,)type'.\n",
      "  _np_qint16 = np.dtype([(\"qint16\", np.int16, 1)])\n",
      "/home/neeti/.local/lib/python3.6/site-packages/tensorflow/python/framework/dtypes.py:529: FutureWarning: Passing (type, 1) or '1type' as a synonym of type is deprecated; in a future version of numpy, it will be understood as (type, (1,)) / '(1,)type'.\n",
      "  _np_quint16 = np.dtype([(\"quint16\", np.uint16, 1)])\n",
      "/home/neeti/.local/lib/python3.6/site-packages/tensorflow/python/framework/dtypes.py:530: FutureWarning: Passing (type, 1) or '1type' as a synonym of type is deprecated; in a future version of numpy, it will be understood as (type, (1,)) / '(1,)type'.\n",
      "  _np_qint32 = np.dtype([(\"qint32\", np.int32, 1)])\n",
      "/home/neeti/.local/lib/python3.6/site-packages/tensorflow/python/framework/dtypes.py:535: FutureWarning: Passing (type, 1) or '1type' as a synonym of type is deprecated; in a future version of numpy, it will be understood as (type, (1,)) / '(1,)type'.\n",
      "  np_resource = np.dtype([(\"resource\", np.ubyte, 1)])\n"
     ]
    }
   ],
   "source": [
    "import tensorflow as tf\n",
    "import pandas as pd\n",
    "import numpy as np\n",
    "import cv2\n",
    "tf.enable_eager_execution()"
   ]
  },
  {
   "cell_type": "code",
   "execution_count": 3,
   "metadata": {},
   "outputs": [],
   "source": [
    "avatar_tag_path = '/home/neeti/Documents/GANs/Anime_Creation/CreateGirlsMoe/resource/avatar_with_tag.list'"
   ]
  },
  {
   "cell_type": "code",
   "execution_count": 10,
   "metadata": {},
   "outputs": [],
   "source": [
    "tag = ['blonde hair','brown hair','black hair','blue hair','pink hair',\n",
    "               'purple hair','green hair','red hair','silver hair','white hair','orange hair',\n",
    "               'aqua hair','gray hair','long hair','short hair','twintails','drill hair','ponytail','blush',\n",
    "               'smile','open mouth','hat','ribbon','glasses','blue eyes','red eyes','brown eyes',\n",
    "               'green eyes','purple eyes','yellow eyes','pink eyes','aqua eyes','black eyes','orange eyes',]\n",
    "tag_map = dict()\n",
    "for i, j in enumerate(tag):\n",
    "    tag_map[j] = i\n",
    "    \n",
    "    \n",
    "def get_one_hot(feat: list) -> np.array:\n",
    "    one_hot = np.zeros(len(tag))\n",
    "    one_hot[list(map(lambda each: tag_map[each], feat))] = tf.constant(1, dtype\n",
    "    return one_hot"
   ]
  },
  {
   "cell_type": "code",
   "execution_count": 34,
   "metadata": {},
   "outputs": [],
   "source": [
    "def preprocess_fn(x):\n",
    "    features =  list(x['features'].split(';'))\n",
    "    features = get_one_hot(features)\n",
    "    features = tf.convert_to_tensor(features)\n",
    "    path = (list(x['path'].split('/')))[-1]\n",
    "    path = '/home/neeti/Documents/GANs/Anime_Creation/CreateGirlsMoe/resource/avatar_with_tag/'+path\n",
    "    image = cv2.imread(path)\n",
    "    image = tf.convert_to_tensor(image)\n",
    "    return {'features': features, 'image': image}"
   ]
  },
  {
   "cell_type": "code",
   "execution_count": 35,
   "metadata": {},
   "outputs": [
    {
     "name": "stdout",
     "output_type": "stream",
     "text": [
      "0    {'features': (tf.Tensor(0.0, shape=(), dtype=f...\n",
      "1    {'features': (tf.Tensor(0.0, shape=(), dtype=f...\n",
      "2    {'features': (tf.Tensor(0.0, shape=(), dtype=f...\n",
      "3    {'features': (tf.Tensor(0.0, shape=(), dtype=f...\n",
      "4    {'features': (tf.Tensor(0.0, shape=(), dtype=f...\n",
      "5    {'features': (tf.Tensor(0.0, shape=(), dtype=f...\n",
      "6    {'features': (tf.Tensor(0.0, shape=(), dtype=f...\n",
      "7    {'features': (tf.Tensor(0.0, shape=(), dtype=f...\n",
      "dtype: object\n"
     ]
    }
   ],
   "source": [
    "data = pd.read_csv(avatar_tag_path, header = None, names=[\"id\", 'id_x', 'features', 'path'])\n",
    "data = data.apply(lambda x : preprocess_fn(x), axis =1)\n",
    "# data = data.batch(3)\n",
    "# iterator = data.make_one_shot_iterator()\n",
    "# take = iterator.get_next()\n",
    "print(data)"
   ]
  },
  {
   "cell_type": "code",
   "execution_count": 27,
   "metadata": {},
   "outputs": [
    {
     "name": "stdout",
     "output_type": "stream",
     "text": [
      "tf.Tensor(\n",
      "[b'000,0,green eyes;long hair;black hair;smile,../../resource/avatar_with_tag/000.jpg'\n",
      " b'001,0,brown hair,../../resource/avatar_with_tag/001.jpg'], shape=(2,), dtype=string)\n"
     ]
    }
   ],
   "source": [
    "print(take)"
   ]
  },
  {
   "cell_type": "code",
   "execution_count": null,
   "metadata": {},
   "outputs": [],
   "source": []
  },
  {
   "cell_type": "code",
   "execution_count": null,
   "metadata": {},
   "outputs": [],
   "source": []
  }
 ],
 "metadata": {
  "kernelspec": {
   "display_name": "Python 3",
   "language": "python",
   "name": "python3"
  },
  "language_info": {
   "codemirror_mode": {
    "name": "ipython",
    "version": 3
   },
   "file_extension": ".py",
   "mimetype": "text/x-python",
   "name": "python",
   "nbconvert_exporter": "python",
   "pygments_lexer": "ipython3",
   "version": "3.6.8"
  }
 },
 "nbformat": 4,
 "nbformat_minor": 2
}
