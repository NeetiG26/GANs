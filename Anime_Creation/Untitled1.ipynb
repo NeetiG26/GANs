{
 "cells": [
  {
   "cell_type": "code",
   "execution_count": 1,
   "metadata": {},
   "outputs": [],
   "source": [
    "avatar_tag_path = '/home/neeti/Documents/GANs/Anime_Creation/CreateGirlsMoe/resource/avatar_with_tag.list'"
   ]
  },
  {
   "cell_type": "code",
   "execution_count": 2,
   "metadata": {},
   "outputs": [],
   "source": [
    "avatar_list = []\n",
    "with open(avatar_tag_path, 'r') as fin:\n",
    "    avatar_list = fin.readlines()\n",
    "avatar_list = list(map(lambda each: each.strip('\\n'), avatar_list))\n",
    "avatar_list = list(map(lambda each: each.split(','), avatar_list))\n",
    "avatar_list = list(map(lambda each: [each[0], each[1], each[2].split(';'), each[3]], avatar_list))"
   ]
  },
  {
   "cell_type": "code",
   "execution_count": 3,
   "metadata": {},
   "outputs": [
    {
     "data": {
      "text/plain": [
       "[['000',\n",
       "  '0',\n",
       "  ['green eyes', 'long hair', 'black hair', 'smile'],\n",
       "  '../../resource/avatar_with_tag/000.jpg'],\n",
       " ['001', '0', ['brown hair'], '../../resource/avatar_with_tag/001.jpg'],\n",
       " ['002',\n",
       "  '0',\n",
       "  ['red hair', 'green eyes'],\n",
       "  '../../resource/avatar_with_tag/002.jpg'],\n",
       " ['003',\n",
       "  '0',\n",
       "  ['short hair', 'aqua hair', 'green hair'],\n",
       "  '../../resource/avatar_with_tag/003.jpg'],\n",
       " ['004',\n",
       "  '0',\n",
       "  ['black hair', 'long hair'],\n",
       "  '../../resource/avatar_with_tag/004.jpg'],\n",
       " ['005',\n",
       "  '0',\n",
       "  ['brown hair', 'blue eyes'],\n",
       "  '../../resource/avatar_with_tag/005.jpg'],\n",
       " ['006', '0', ['brown hair'], '../../resource/avatar_with_tag/006.jpg'],\n",
       " ['007', '0', ['orange hair'], '../../resource/avatar_with_tag/007.jpg']]"
      ]
     },
     "execution_count": 3,
     "metadata": {},
     "output_type": "execute_result"
    }
   ],
   "source": [
    "avatar_list"
   ]
  },
  {
   "cell_type": "code",
   "execution_count": 4,
   "metadata": {},
   "outputs": [],
   "source": [
    "tag = ['blonde hair','brown hair','black hair','blue hair','pink hair',\n",
    "               'purple hair','green hair','red hair','silver hair','white hair','orange hair',\n",
    "               'aqua hair','gray hair','long hair','short hair','twintails','drill hair','ponytail','blush',\n",
    "               'smile','open mouth','hat','ribbon','glasses','blue eyes','red eyes','brown eyes',\n",
    "               'green eyes','purple eyes','yellow eyes','pink eyes','aqua eyes','black eyes','orange eyes',]\n",
    "tag_map = dict()\n",
    "for i, j in enumerate(tag):\n",
    "    tag_map[j] = i"
   ]
  },
  {
   "cell_type": "code",
   "execution_count": 5,
   "metadata": {},
   "outputs": [
    {
     "data": {
      "text/plain": [
       "{'blonde hair': 0,\n",
       " 'brown hair': 1,\n",
       " 'black hair': 2,\n",
       " 'blue hair': 3,\n",
       " 'pink hair': 4,\n",
       " 'purple hair': 5,\n",
       " 'green hair': 6,\n",
       " 'red hair': 7,\n",
       " 'silver hair': 8,\n",
       " 'white hair': 9,\n",
       " 'orange hair': 10,\n",
       " 'aqua hair': 11,\n",
       " 'gray hair': 12,\n",
       " 'long hair': 13,\n",
       " 'short hair': 14,\n",
       " 'twintails': 15,\n",
       " 'drill hair': 16,\n",
       " 'ponytail': 17,\n",
       " 'blush': 18,\n",
       " 'smile': 19,\n",
       " 'open mouth': 20,\n",
       " 'hat': 21,\n",
       " 'ribbon': 22,\n",
       " 'glasses': 23,\n",
       " 'blue eyes': 24,\n",
       " 'red eyes': 25,\n",
       " 'brown eyes': 26,\n",
       " 'green eyes': 27,\n",
       " 'purple eyes': 28,\n",
       " 'yellow eyes': 29,\n",
       " 'pink eyes': 30,\n",
       " 'aqua eyes': 31,\n",
       " 'black eyes': 32,\n",
       " 'orange eyes': 33}"
      ]
     },
     "execution_count": 5,
     "metadata": {},
     "output_type": "execute_result"
    }
   ],
   "source": [
    "tag_map"
   ]
  },
  {
   "cell_type": "code",
   "execution_count": 8,
   "metadata": {},
   "outputs": [],
   "source": [
    "import numpy as np\n",
    "def get_one_hot(feat: list) -> np.array:\n",
    "    one_hot = np.zeros(len(tag))\n",
    "    one_hot[list(map(lambda each: tag_map[each], feat))] = 1\n",
    "    return one_hot"
   ]
  },
  {
   "cell_type": "code",
   "execution_count": null,
   "metadata": {},
   "outputs": [],
   "source": []
  }
 ],
 "metadata": {
  "kernelspec": {
   "display_name": "Python 3",
   "language": "python",
   "name": "python3"
  },
  "language_info": {
   "codemirror_mode": {
    "name": "ipython",
    "version": 3
   },
   "file_extension": ".py",
   "mimetype": "text/x-python",
   "name": "python",
   "nbconvert_exporter": "python",
   "pygments_lexer": "ipython3",
   "version": "3.6.8"
  }
 },
 "nbformat": 4,
 "nbformat_minor": 2
}
