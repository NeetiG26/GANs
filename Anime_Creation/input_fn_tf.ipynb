{
 "cells": [
  {
   "cell_type": "code",
   "execution_count": 1,
   "metadata": {
    "scrolled": true
   },
   "outputs": [
    {
     "name": "stderr",
     "output_type": "stream",
     "text": [
      "/home/neeti/.local/lib/python3.6/site-packages/tensorflow/python/framework/dtypes.py:526: FutureWarning: Passing (type, 1) or '1type' as a synonym of type is deprecated; in a future version of numpy, it will be understood as (type, (1,)) / '(1,)type'.\n",
      "  _np_qint8 = np.dtype([(\"qint8\", np.int8, 1)])\n",
      "/home/neeti/.local/lib/python3.6/site-packages/tensorflow/python/framework/dtypes.py:527: FutureWarning: Passing (type, 1) or '1type' as a synonym of type is deprecated; in a future version of numpy, it will be understood as (type, (1,)) / '(1,)type'.\n",
      "  _np_quint8 = np.dtype([(\"quint8\", np.uint8, 1)])\n",
      "/home/neeti/.local/lib/python3.6/site-packages/tensorflow/python/framework/dtypes.py:528: FutureWarning: Passing (type, 1) or '1type' as a synonym of type is deprecated; in a future version of numpy, it will be understood as (type, (1,)) / '(1,)type'.\n",
      "  _np_qint16 = np.dtype([(\"qint16\", np.int16, 1)])\n",
      "/home/neeti/.local/lib/python3.6/site-packages/tensorflow/python/framework/dtypes.py:529: FutureWarning: Passing (type, 1) or '1type' as a synonym of type is deprecated; in a future version of numpy, it will be understood as (type, (1,)) / '(1,)type'.\n",
      "  _np_quint16 = np.dtype([(\"quint16\", np.uint16, 1)])\n",
      "/home/neeti/.local/lib/python3.6/site-packages/tensorflow/python/framework/dtypes.py:530: FutureWarning: Passing (type, 1) or '1type' as a synonym of type is deprecated; in a future version of numpy, it will be understood as (type, (1,)) / '(1,)type'.\n",
      "  _np_qint32 = np.dtype([(\"qint32\", np.int32, 1)])\n",
      "/home/neeti/.local/lib/python3.6/site-packages/tensorflow/python/framework/dtypes.py:535: FutureWarning: Passing (type, 1) or '1type' as a synonym of type is deprecated; in a future version of numpy, it will be understood as (type, (1,)) / '(1,)type'.\n",
      "  np_resource = np.dtype([(\"resource\", np.ubyte, 1)])\n"
     ]
    }
   ],
   "source": [
    "import tensorflow as tf\n",
    "import pandas as pd\n",
    "import cv2\n",
    "import numpy as np\n",
    "tf.enable_eager_execution()"
   ]
  },
  {
   "cell_type": "code",
   "execution_count": 2,
   "metadata": {},
   "outputs": [],
   "source": [
    "avatar_tag_path = 'gs://gan-pipeline/dataset/getchu_images/avatar_with_tag.list'"
   ]
  },
  {
   "cell_type": "code",
   "execution_count": 3,
   "metadata": {},
   "outputs": [],
   "source": [
    "tag = ['blonde hair','brown hair','black hair','blue hair','pink hair',\n",
    "               'purple hair','green hair','red hair','silver hair','white hair','orange hair',\n",
    "               'aqua hair','gray hair','long hair','short hair','twintails','drill hair','ponytail','blush',\n",
    "               'smile','open mouth','hat','ribbon','glasses','blue eyes','red eyes','brown eyes',\n",
    "               'green eyes','purple eyes','yellow eyes','pink eyes','aqua eyes','black eyes','orange eyes',]\n",
    "tag_map = dict()\n",
    "for i, j in enumerate(tag):\n",
    "    tag_map[j] = i"
   ]
  },
  {
   "cell_type": "code",
   "execution_count": 4,
   "metadata": {},
   "outputs": [],
   "source": [
    "def one_hot_fn(x):\n",
    "    one_hot = np.zeros(len(tag))\n",
    "    \n",
    "    vals = []\n",
    "    for ele in x:\n",
    "        vals.append(tf.compat.as_text(ele))\n",
    "    one_hot[list(map(lambda each: tag_map[each], vals))] = 1\n",
    "    one_hot = np.array(one_hot, dtype=np.int32)\n",
    "    return one_hot"
   ]
  },
  {
   "cell_type": "code",
   "execution_count": 5,
   "metadata": {},
   "outputs": [],
   "source": [
    "def preprocess_(x):\n",
    "    x = tf.strings.split(x,sep=',')\n",
    "    x = x.values\n",
    "    features = x[-2]\n",
    "#     features = tf.strings.split([features],sep=';')\n",
    "#     features = features.values\n",
    "#     features = tf.py_func(one_hot_fn, [features], tf.int32)\n",
    "    path = x[-1]\n",
    "#     image = tf.io.read_file(path)\n",
    "#     image = tf.image.decode_jpeg(image)\n",
    "#     image = tf.image.convert_image_dtype(image, tf.float32)\n",
    "#     image = tf.image.resize(image, [64, 64])\n",
    "    return {'image': image, 'features':features}"
   ]
  },
  {
   "cell_type": "code",
   "execution_count": 9,
   "metadata": {},
   "outputs": [],
   "source": [
    "data = tf.data.TextLineDataset(avatar_tag_path)\n",
    "# data = data.map(lambda *x : preprocess_(x))\n",
    "# data = data.batch(3)\n",
    "iterator = data.make_one_shot_iterator()\n",
    "take = iterator.get_next()\n",
    "# features = tf.py_func(one_hot_fn,(tf.compat.as_text(take['features'].numpy()), tf.string)"
   ]
  },
  {
   "cell_type": "code",
   "execution_count": 10,
   "metadata": {},
   "outputs": [
    {
     "name": "stdout",
     "output_type": "stream",
     "text": [
      "tf.Tensor(b'02004,blue eyes,gs://gan-pipeline/dataset/getchu_images/avatar_with_tag/2004_157.jpg', shape=(), dtype=string)\n"
     ]
    }
   ],
   "source": [
    "print(take)"
   ]
  },
  {
   "cell_type": "code",
   "execution_count": 8,
   "metadata": {},
   "outputs": [
    {
     "name": "stdout",
     "output_type": "stream",
     "text": [
      "tf.Tensor([0 0 0 0 0 0 0 0 0 0 0 0 0 0 0 0 0 0 0 0 0 0 0 0 1 0 0 0 0 0 0 0 0 0], shape=(34,), dtype=int32)\n"
     ]
    }
   ],
   "source": [
    "print(take['features'])"
   ]
  },
  {
   "cell_type": "code",
   "execution_count": null,
   "metadata": {},
   "outputs": [],
   "source": []
  },
  {
   "cell_type": "code",
   "execution_count": null,
   "metadata": {},
   "outputs": [],
   "source": []
  }
 ],
 "metadata": {
  "kernelspec": {
   "display_name": "Python 3",
   "language": "python",
   "name": "python3"
  },
  "language_info": {
   "codemirror_mode": {
    "name": "ipython",
    "version": 3
   },
   "file_extension": ".py",
   "mimetype": "text/x-python",
   "name": "python",
   "nbconvert_exporter": "python",
   "pygments_lexer": "ipython3",
   "version": "3.6.8"
  }
 },
 "nbformat": 4,
 "nbformat_minor": 2
}
